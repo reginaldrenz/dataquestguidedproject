{
 "cells": [
  {
   "cell_type": "markdown",
   "id": "cc9af814-e150-415a-b84a-31ff72ae1163",
   "metadata": {
    "tags": []
   },
   "source": [
    "# Analyzing Profitable App Profiles for the App Store and Google Play Markets\n",
    "#### Project Description:\n",
    "A data analysis is the process of exploring, cleaning and transforming the data into a useable format. In this analysis, we are going to explore the apps on both Apple Store and Google Play Store and see what type of apps are currently attracting users. Most of us uses a smartphone everyday, we used different apps for different purposes.\n",
    "\n",
    "#### Project Scope\n",
    "The scope of this analysis is to analyze data that are focused on english users and that are free to download and install.\n",
    "\n",
    "#### Project Goal\n",
    "The goal of this analysis is to recommend the type of apps that the developers can work on. In this analysis, we are going to work on exploring the data, cleaning the data, transforming and analyzing the data to come up with a recommendation."
   ]
  },
  {
   "cell_type": "markdown",
   "id": "0d5e1a0b-7d72-470e-aaea-956619fb8575",
   "metadata": {},
   "source": [
    "---"
   ]
  },
  {
   "cell_type": "markdown",
   "id": "2d602904-20f8-43c6-8d89-6926f0f74667",
   "metadata": {},
   "source": [
    "## Table of Contents\n",
    "\n",
    "[Dataset](#Dataset)<br>\n",
    "[Data Cleaning](#Data-Cleaning)<br>\n",
    "[Data Analysis](#Data-Analysis)<br>\n",
    "[Conclusion and Recommendations](#Conclusion-and-Recommendations)"
   ]
  },
  {
   "cell_type": "markdown",
   "id": "f1b47250-ad0d-4582-a9f1-99906ca173dd",
   "metadata": {
    "tags": []
   },
   "source": [
    "---"
   ]
  },
  {
   "cell_type": "markdown",
   "id": "881c7e41-2471-49f5-b7c3-3d51e6332c89",
   "metadata": {},
   "source": [
    "## Dataset"
   ]
  },
  {
   "cell_type": "markdown",
   "id": "97f79f8e-d7bf-4e72-966b-f1b06c151ad5",
   "metadata": {},
   "source": [
    "The first thing that we have to do is to import the library that we are going to use. And the datasets to store it in a variable. We are going to use the [App Store](https://www.kaggle.com/datasets/lava18/google-play-store-apps) and [Google Play Store](https://www.kaggle.com/datasets/lava18/google-play-store-apps) csv files that are available to download in [Kaggle](kaggle.com)."
   ]
  },
  {
   "cell_type": "code",
   "execution_count": 1,
   "id": "47cb42bb-a9f6-4149-9128-d48b96514b7c",
   "metadata": {
    "tags": []
   },
   "outputs": [],
   "source": [
    "#We are going to need the reader method in the csv library to read the imported csvs.\n",
    "import csv"
   ]
  },
  {
   "cell_type": "markdown",
   "id": "27c96813-76b6-40d6-8df8-2a190166b218",
   "metadata": {},
   "source": [
    "Since we are working on two datasets, we are going to create a function that will open, store in a variable and explore the dataset to avoid typing the code twice. This also allows our code to be reusable on other datasets."
   ]
  },
  {
   "cell_type": "code",
   "execution_count": 2,
   "id": "b333ac98-9368-4475-8285-ac957ab1957f",
   "metadata": {
    "tags": []
   },
   "outputs": [],
   "source": [
    "#creating a function to open our dataset\n",
    "def open_dataset(filename, header = True):\n",
    "    '''\n",
    "    Open, read, store in a variable and closes the dataset\n",
    "    \n",
    "    Args\n",
    "    ---\n",
    "    filename (str): Name/path of the file\n",
    "    header (bool): To include or separate the header\n",
    "    '''\n",
    "    with open(filename, encoding = 'utf-8') as dataset:\n",
    "        read_dataset = csv.reader(dataset)\n",
    "        data_list = list(read_dataset)\n",
    "        if header == True:\n",
    "            return data_list\n",
    "        elif header == False:\n",
    "            return data_list[0], data_list[1:]\n",
    "\n",
    "#creating a function to explore our dataset\n",
    "def explore_data(dataset, start, end, rows_and_columns = False, header = True):\n",
    "    '''\n",
    "    Print the n number of rows and the length of rows and columns\n",
    "    \n",
    "    Args\n",
    "    ---\n",
    "    dataset (list): the dataset to be explored\n",
    "    start (int): starting index number\n",
    "    end (int): ending index number plus one.\n",
    "    rows_and_columns (bool): Print the number of rows and columns\n",
    "    header (bool): The dataset have header.\n",
    "    '''\n",
    "    dataslice = dataset[start:end]\n",
    "    for row in dataslice:\n",
    "        print(row, sep = '\\n')\n",
    "    if rows_and_columns == True and header == True:\n",
    "        print('Number of rows:',len(dataset[1:]))\n",
    "        print('Number of columns:', len(dataset[0]))\n",
    "    elif rows_and_columns == True:\n",
    "        print('Number of rows:',len(dataset))\n",
    "        print('Number of columns:', len(dataset[0]))"
   ]
  },
  {
   "cell_type": "markdown",
   "id": "d446b2ab-d597-4eaa-aed1-0506da954153",
   "metadata": {},
   "source": [
    "Once we stored the dataset to a variable we are going to explore the first five rows (including the header) to give us a bit of a context on what is inside our dataset."
   ]
  },
  {
   "cell_type": "code",
   "execution_count": 3,
   "id": "4a64841e-9b74-42d9-a42e-0e347f682b7d",
   "metadata": {
    "tags": []
   },
   "outputs": [
    {
     "name": "stdout",
     "output_type": "stream",
     "text": [
      "For the apple store dataset:\n",
      "['id', 'track_name', 'size_bytes', 'currency', 'price', 'rating_count_tot', 'rating_count_ver', 'user_rating', 'user_rating_ver', 'ver', 'cont_rating', 'prime_genre', 'sup_devices.num', 'ipadSc_urls.num', 'lang.num', 'vpp_lic']\n",
      "['284882215', 'Facebook', '389879808', 'USD', '0.0', '2974676', '212', '3.5', '3.5', '95.0', '4+', 'Social Networking', '37', '1', '29', '1']\n",
      "['389801252', 'Instagram', '113954816', 'USD', '0.0', '2161558', '1289', '4.5', '4.0', '10.23', '12+', 'Photo & Video', '37', '0', '29', '1']\n",
      "['529479190', 'Clash of Clans', '116476928', 'USD', '0.0', '2130805', '579', '4.5', '4.5', '9.24.12', '9+', 'Games', '38', '5', '18', '1']\n",
      "Number of rows: 7197\n",
      "Number of columns: 16\n",
      "\n",
      "For the google play store dataset\n",
      "['App', 'Category', 'Rating', 'Reviews', 'Size', 'Installs', 'Type', 'Price', 'Content Rating', 'Genres', 'Last Updated', 'Current Ver', 'Android Ver']\n",
      "['Photo Editor & Candy Camera & Grid & ScrapBook', 'ART_AND_DESIGN', '4.1', '159', '19M', '10,000+', 'Free', '0', 'Everyone', 'Art & Design', 'January 7, 2018', '1.0.0', '4.0.3 and up']\n",
      "['Coloring book moana', 'ART_AND_DESIGN', '3.9', '967', '14M', '500,000+', 'Free', '0', 'Everyone', 'Art & Design;Pretend Play', 'January 15, 2018', '2.0.0', '4.0.3 and up']\n",
      "['U Launcher Lite – FREE Live Cool Themes, Hide Apps', 'ART_AND_DESIGN', '4.7', '87510', '8.7M', '5,000,000+', 'Free', '0', 'Everyone', 'Art & Design', 'August 1, 2018', '1.2.4', '4.0.3 and up']\n",
      "Number of rows: 10841\n",
      "Number of columns: 13\n"
     ]
    }
   ],
   "source": [
    "#Storing the dataset using the function defined above\n",
    "apls_dataset = open_dataset('AppleStore.csv')\n",
    "gpls_dataset = open_dataset('googleplaystore.csv')\n",
    "#Exploring the dataset using the function defined above\n",
    "print('For the apple store dataset:')\n",
    "explore_data(apls_dataset,0,4,True)\n",
    "print('\\nFor the google play store dataset')\n",
    "explore_data(gpls_dataset,0,4,True)"
   ]
  },
  {
   "cell_type": "markdown",
   "id": "954b42f0-43f1-4f08-a3a6-1d30a6bd525f",
   "metadata": {},
   "source": [
    "---"
   ]
  },
  {
   "cell_type": "markdown",
   "id": "bd68d225-6e3e-4733-898d-7a9493bed180",
   "metadata": {
    "tags": []
   },
   "source": [
    "## Data Cleaning\n",
    "\n",
    "Before we perform data analysis, we have to make sure that the data is clean to be approriate for an analysis. Since our application will be focused on english speakers we are going to exclude applications with non-english characters. We are going to exclude non free-apps as well. So in order to properly clean our data, we have to do the following:\n",
    "- [Detect inaccurate data, and correct or remove it.](#Detecting-and-removing-inaccurate-data)\n",
    "- [Detect duplicate data, and remove the duplicates.](#Detecting-and-removing-duplicate-data)\n",
    "- [Remove non-English apps like 爱奇艺PPS -《欢乐颂2》电视剧热播.](#Removing-non-english-apps)\n",
    "- [Remove apps that aren't free.](#Removing-apps-that-are-not-free)"
   ]
  },
  {
   "cell_type": "markdown",
   "id": "8038bb27-4214-4af2-afca-3592e0886fb2",
   "metadata": {
    "tags": []
   },
   "source": [
    "### Detecting and removing inaccurate data\n",
    "\n",
    "To start things off, one of the [discussions](https://www.kaggle.com/datasets/lava18/google-play-store-apps/discussion/66015) regarding our dataset states that the `Rating` column for the entry number **10473** has a missing value. Note that the `Rating` column has an index value of [2]. We are going to verify if this is true. And again, since we are going to work on two datasets we are going to define a function that will detect if the observation has a missing data."
   ]
  },
  {
   "cell_type": "code",
   "execution_count": 4,
   "id": "8728994e-dcf6-4b91-a7cf-f7fc35e5d023",
   "metadata": {
    "tags": []
   },
   "outputs": [],
   "source": [
    "def row_verifier(dataset):\n",
    "    '''\n",
    "    Verifies if the number of attributes in the observation is the same with the header\n",
    "    \n",
    "    Args\n",
    "    ---\n",
    "    dataset (list): The dataset to be verified\n",
    "    '''\n",
    "    correct_columns = 0\n",
    "    for row in dataset:\n",
    "        if len(row) != len(dataset[0]):\n",
    "            print('Index:',dataset.index(row))\n",
    "            print(row)\n",
    "        else:\n",
    "            correct_columns += 1\n",
    "    if correct_columns == len(dataset):\n",
    "        print('All observations in the dataset have a correct number of attributes.')"
   ]
  },
  {
   "cell_type": "code",
   "execution_count": 5,
   "id": "fba60de9-f271-44f1-9d97-aec71847a371",
   "metadata": {},
   "outputs": [
    {
     "name": "stdout",
     "output_type": "stream",
     "text": [
      "Index: 10473\n",
      "['Life Made WI-Fi Touchscreen Photo Frame', '1.9', '19', '3.0M', '1,000+', 'Free', '0', 'Everyone', '', 'February 11, 2018', '1.0.19', '4.0 and up']\n"
     ]
    }
   ],
   "source": [
    "row_verifier(gpls_dataset)"
   ]
  },
  {
   "cell_type": "markdown",
   "id": "abbc90bb-21fb-4c32-a575-e8bab1e23787",
   "metadata": {},
   "source": [
    "As we can observe, this confirms the information provided from the discussion. We can fill the entry by further investigating what data should we put on the missing field, but for the simplicity of our project we are just going to remove it. To clean our data, we need to delete this entry so that our dataset will have a uniform number of data per observation."
   ]
  },
  {
   "cell_type": "code",
   "execution_count": 6,
   "id": "bf978de3-a584-4c8c-8e03-2190df31dcfd",
   "metadata": {
    "tags": []
   },
   "outputs": [
    {
     "name": "stdout",
     "output_type": "stream",
     "text": [
      "All observations in the dataset have a correct number of attributes.\n"
     ]
    }
   ],
   "source": [
    "#using the del statement we are going to delete the entry 10473\n",
    "del gpls_dataset[10473]\n",
    "#checking if it fixes the dataset\n",
    "row_verifier(gpls_dataset)"
   ]
  },
  {
   "cell_type": "markdown",
   "id": "15d8b426-7b84-491a-aeaa-90bde5b02643",
   "metadata": {},
   "source": [
    "<br>We are going to apply the same function to our Apple Store dataset to verify if there's any missing data."
   ]
  },
  {
   "cell_type": "code",
   "execution_count": 7,
   "id": "cb4f75af-2b71-4886-bb5f-ae46c24ed71a",
   "metadata": {
    "tags": []
   },
   "outputs": [
    {
     "name": "stdout",
     "output_type": "stream",
     "text": [
      "All observations in the dataset have a correct number of attributes.\n"
     ]
    }
   ],
   "source": [
    "#We are going to apply the same approach on apple store dataset\n",
    "row_verifier(apls_dataset)"
   ]
  },
  {
   "cell_type": "markdown",
   "id": "e6d2781a-e6a5-41b4-ba42-f4f8ed275357",
   "metadata": {
    "tags": []
   },
   "source": [
    "### Detecting and removing duplicate data\n",
    "Now that we removed innacurate data, we are going to focus on the duplicated data. \n",
    "According to the article from Hevo titled [10 Reasons How Duplicate Data Harms Your Business](https://hevodata.com/learn/duplicate-data/#:~:text=for%20better%20services.-,Inaccurate%20Reporting,should%20do%20for%20future%20growth.)\n",
    "\n",
    ">Good reporting requires accurate data that is free of duplicates. Duplicate data inhibits this. Reports generated from duplicate records are less reliable and cannot be used to make informed decisions. The business will also find it difficult to forecast what it should do for future growth.\n",
    "\n",
    "We want to avoid any misinformations on our result so we are going to remove the duplicated data. To start with removal of duplicated data, we are going to investigate which data has a duplicate."
   ]
  },
  {
   "cell_type": "code",
   "execution_count": 8,
   "id": "3b9540ef-490c-4f92-9f8f-a8cd1da8abc8",
   "metadata": {},
   "outputs": [
    {
     "name": "stdout",
     "output_type": "stream",
     "text": [
      "Number of unique apps: 9659\n",
      "Number of duplicated apps: 1181\n",
      "\n",
      "Some names of duplicated app:\n",
      "['Quick PDF Scanner + OCR FREE', 'Box', 'Google My Business', 'ZOOM Cloud Meetings', 'join.me - Simple Meetings', 'Box', 'Zenefits', 'Google Ads', 'Google My Business', 'Slack']\n",
      "\n",
      "Sample of duplicated apps:\n",
      "['Quick PDF Scanner + OCR FREE', 'BUSINESS', '4.2', '80805', 'Varies with device', '5,000,000+', 'Free', '0', 'Everyone', 'Business', 'February 26, 2018', 'Varies with device', '4.0.3 and up']\n",
      "['Quick PDF Scanner + OCR FREE', 'BUSINESS', '4.2', '80805', 'Varies with device', '5,000,000+', 'Free', '0', 'Everyone', 'Business', 'February 26, 2018', 'Varies with device', '4.0.3 and up']\n",
      "['Quick PDF Scanner + OCR FREE', 'BUSINESS', '4.2', '80804', 'Varies with device', '5,000,000+', 'Free', '0', 'Everyone', 'Business', 'February 26, 2018', 'Varies with device', '4.0.3 and up']\n"
     ]
    }
   ],
   "source": [
    "unique_data = list()\n",
    "duplicated_data = list()\n",
    "\n",
    "for row in gpls_dataset[1:]:\n",
    "    name = row[0]\n",
    "    if name not in unique_data:\n",
    "        unique_data.append(name)\n",
    "    else:\n",
    "        duplicated_data.append(name)\n",
    "print('Number of unique apps:',len(unique_data))\n",
    "print('Number of duplicated apps:',len(duplicated_data))\n",
    "#this will print some of the name of duplicated app\n",
    "print('\\nSome names of duplicated app:')\n",
    "print(duplicated_data[:10])\n",
    "#this will print the app that has the same name as Quick PDF Scanner + OCR FREE\n",
    "print('\\nSample of duplicated apps:')\n",
    "for row in gpls_dataset[1:]:\n",
    "    if row[0] == 'Quick PDF Scanner + OCR FREE':\n",
    "        print(row)"
   ]
  },
  {
   "cell_type": "markdown",
   "id": "dbabd1a3-82d0-41f2-b96e-5848259b14bf",
   "metadata": {},
   "source": [
    "As we can observe, the value with an index number [3] has a difference on one of the entries. If we look at our column names, we identify index [3] as the rating count. In order to remove the duplicated data, we have to set our basis. The data might be collected multiple times, so we can think of having a higher value of rating count means that it is the latest entry. This will be our argument on removing the duplicates.\n",
    "<br><br>On the following steps, we are going to create a dictionary where the **key:value** pair is the name of the application and the maximum review count of the application."
   ]
  },
  {
   "cell_type": "code",
   "execution_count": 9,
   "id": "593b712f-77a2-4ffa-b822-0f852de9446b",
   "metadata": {
    "tags": []
   },
   "outputs": [
    {
     "name": "stdout",
     "output_type": "stream",
     "text": [
      "Number of applications excluding duplicates: 9659\n"
     ]
    }
   ],
   "source": [
    "print('Number of applications excluding duplicates:',len(gpls_dataset[1:]) - len(duplicated_data))"
   ]
  },
  {
   "cell_type": "code",
   "execution_count": 10,
   "id": "59b9d907-455c-40cf-aa19-b6915f945a3f",
   "metadata": {},
   "outputs": [
    {
     "name": "stdout",
     "output_type": "stream",
     "text": [
      "reviews_max dictionary length: 9659\n"
     ]
    }
   ],
   "source": [
    "reviews_max = dict() #this is where we are going to store our name:max review (key:value pair)\n",
    "\n",
    "#the code below will loop through the gpls dataset and check whether the value exist in the reviews_max or not. And change the value if the review count is higher.\n",
    "for row in gpls_dataset[1:]:\n",
    "    name = row[0]\n",
    "    n_reviews = float(row[3])\n",
    "    \n",
    "    if name in reviews_max and n_reviews > reviews_max[name]:\n",
    "        reviews_max[name] = n_reviews\n",
    "    elif name not in reviews_max:\n",
    "        reviews_max[name] = reviews_max.get(name, n_reviews)\n",
    "        \n",
    "#to verify that we have the correct length of dict, we are going to get the length and it should be 9659 according to the apps without duplicates\n",
    "print('reviews_max dictionary length:',len(reviews_max))"
   ]
  },
  {
   "cell_type": "markdown",
   "id": "d7a8113c-4d3f-4033-83a9-c1b9de2f6c87",
   "metadata": {},
   "source": [
    "<br>Now that we have the **key:value** pair that we want, we are going to make two empty lists. The list `android_clean` will store all the rows where the maximum rating count of the application will be included and the `already_added` will store all the names that we added on the first list. We can verify that the number of observations without the duplicates which is *9,659 rows* by getting the length of both list."
   ]
  },
  {
   "cell_type": "code",
   "execution_count": 11,
   "id": "392d85d6-94cf-4c93-8802-9c0a0b6b284d",
   "metadata": {},
   "outputs": [
    {
     "name": "stdout",
     "output_type": "stream",
     "text": [
      "android_clean length: 9659\n",
      "already_added length: 9659\n"
     ]
    }
   ],
   "source": [
    "android_clean = list() #new list which the duplicate was removed\n",
    "already_added = list() #names of the apps that we already added in the new list\n",
    "\n",
    "#this loop takes the row with the maximum number of rating count for that app and removes the duplicates\n",
    "for row in gpls_dataset[1:]:\n",
    "    name = row[0]\n",
    "    n_reviews = float(row[3])\n",
    "    \n",
    "    if n_reviews == reviews_max[name] and name not in already_added:\n",
    "        android_clean.append(row)\n",
    "        already_added.append(name)\n",
    "\n",
    "print('android_clean length:', len(android_clean))\n",
    "print('already_added length:', len(already_added))"
   ]
  },
  {
   "cell_type": "markdown",
   "id": "6e26e5c9-422c-4f01-a214-ba833e4ec25c",
   "metadata": {},
   "source": [
    "<br>Now that the `android_clean` has the same length with the number of applications exlcuding dupplicates, we are going to explore the first 5 rows of our dataset using the function explore_data that we defined above."
   ]
  },
  {
   "cell_type": "code",
   "execution_count": 12,
   "id": "ce09a6e0-e5c6-4fca-8073-1d668a765184",
   "metadata": {},
   "outputs": [
    {
     "name": "stdout",
     "output_type": "stream",
     "text": [
      "['Photo Editor & Candy Camera & Grid & ScrapBook', 'ART_AND_DESIGN', '4.1', '159', '19M', '10,000+', 'Free', '0', 'Everyone', 'Art & Design', 'January 7, 2018', '1.0.0', '4.0.3 and up']\n",
      "['U Launcher Lite – FREE Live Cool Themes, Hide Apps', 'ART_AND_DESIGN', '4.7', '87510', '8.7M', '5,000,000+', 'Free', '0', 'Everyone', 'Art & Design', 'August 1, 2018', '1.2.4', '4.0.3 and up']\n",
      "['Sketch - Draw & Paint', 'ART_AND_DESIGN', '4.5', '215644', '25M', '50,000,000+', 'Free', '0', 'Teen', 'Art & Design', 'June 8, 2018', 'Varies with device', '4.2 and up']\n",
      "['Pixel Draw - Number Art Coloring Book', 'ART_AND_DESIGN', '4.3', '967', '2.8M', '100,000+', 'Free', '0', 'Everyone', 'Art & Design;Creativity', 'June 20, 2018', '1.1', '4.4 and up']\n",
      "['Paper flowers instructions', 'ART_AND_DESIGN', '4.4', '167', '5.6M', '50,000+', 'Free', '0', 'Everyone', 'Art & Design', 'March 26, 2017', '1.0', '2.3 and up']\n"
     ]
    }
   ],
   "source": [
    "explore_data(android_clean,0,5)"
   ]
  },
  {
   "cell_type": "markdown",
   "id": "7fcad23f-8871-4154-90d3-4f0b98c306f5",
   "metadata": {},
   "source": [
    "<br>Now that we managed to remove the duplicates for the google play store dataset, we are going to identify if there is any duplicates on the apple store dataset. By using the id (index 0) of the dataset, we are going to look for any duplicates."
   ]
  },
  {
   "cell_type": "code",
   "execution_count": 13,
   "id": "25316adb-9316-4aee-935d-0dfbf8ddf3f3",
   "metadata": {
    "tags": []
   },
   "outputs": [
    {
     "name": "stdout",
     "output_type": "stream",
     "text": [
      "Number of unique data: 7197\n",
      "Number of duplicates: 0\n"
     ]
    }
   ],
   "source": [
    "unique_id = list()\n",
    "duplicated_id = list()\n",
    "\n",
    "for row in apls_dataset[1:]:\n",
    "    id_data = row[0]\n",
    "    \n",
    "    if id_data not in unique_id:\n",
    "        unique_id.append(id_data)\n",
    "    elif id_data in unique_id:\n",
    "        duplicated_id.append(id_data)\n",
    "        \n",
    "print('Number of unique data:', len(unique_id))\n",
    "print('Number of duplicates:', len(duplicated_id))"
   ]
  },
  {
   "cell_type": "markdown",
   "id": "46a1e1e0-64ff-4237-8a06-0989f1389d3f",
   "metadata": {},
   "source": [
    "Since the number of the unique data is the same as the number of rows we have for the apple store dataset. We can confirm that there are no duplicates on the apple store dataset."
   ]
  },
  {
   "cell_type": "markdown",
   "id": "ddfe2824-f099-4a4e-8a76-7a2f3396da63",
   "metadata": {
    "tags": []
   },
   "source": [
    "### Removing non-english apps"
   ]
  },
  {
   "cell_type": "markdown",
   "id": "360e0547-2f2b-4033-9f6d-88c2399c567e",
   "metadata": {},
   "source": [
    "The target audience of our application will be english users, so we are going to remove any non-english app on our dataset. English text usually includes letters from the English alphabet, numbers composed of digits from 0 to 9, punctuation marks (., !, ?, ;), and other symbols (+, *, /).\n",
    "\n",
    "Each character has a value according to [ASCII](https://www.britannica.com/topic/ASCII). English characters are all in the range of 0 to 127. In order to get this value, we are going to use python's built in ord() function. With this information, we are going to define our own function that will take the name of the applications and verify if there is any non-english characters (in our case, any value that is greater than 127). Since characters such as \"™\" or emojis are out of the 127 range, we are going to add a criteria that we will only exclude an application if there are more than 3 characters with non-english character."
   ]
  },
  {
   "cell_type": "code",
   "execution_count": 14,
   "id": "9a0e95fb-366a-4979-8f5e-11c74d28ce3d",
   "metadata": {
    "tags": []
   },
   "outputs": [],
   "source": [
    "def english_characters(string):\n",
    "    '''\n",
    "    loop through the string and checks if there is any non english character in a string\n",
    "    \n",
    "    Args\n",
    "    ---\n",
    "    string (str): string that needs to be checked\n",
    "    '''\n",
    "\n",
    "    non_english = 0\n",
    "    for character in string:\n",
    "        if ord(character) > 127:\n",
    "            non_english += 1\n",
    "    if non_english > 3:\n",
    "        return False\n",
    "    return True"
   ]
  },
  {
   "cell_type": "markdown",
   "id": "2ec21021-b812-40d7-93af-864e2f8300b1",
   "metadata": {},
   "source": [
    "Now that we defined our function, we are going to loop in the apple store dataset and google playstore dataset and identify if there are non-english characters in the application's name. We can create a new list with a clean data by excluding any non-english applications."
   ]
  },
  {
   "cell_type": "code",
   "execution_count": 15,
   "id": "a9b31929-c758-4cbf-a15a-5ebcb5bb8cb3",
   "metadata": {
    "tags": []
   },
   "outputs": [
    {
     "name": "stdout",
     "output_type": "stream",
     "text": [
      "Number of english apps in apple store dataset: 6183\n",
      "Number of english apps in google playstore dataset: 9614\n"
     ]
    }
   ],
   "source": [
    "apls_dataset_english = list()\n",
    "android_clean_english = list()\n",
    "\n",
    "for row in apls_dataset[1:]:\n",
    "    name = row[1]\n",
    "    if english_characters(name):\n",
    "        apls_dataset_english.append(row)\n",
    "        \n",
    "for row in android_clean:\n",
    "    name = row[0]\n",
    "    if english_characters(name):\n",
    "        android_clean_english.append(row)\n",
    "        \n",
    "print('Number of english apps in apple store dataset:', len(apls_dataset_english))\n",
    "print('Number of english apps in google playstore dataset:', len(android_clean_english))"
   ]
  },
  {
   "cell_type": "markdown",
   "id": "33c9bc8b-e378-4ea4-9060-057a989389bf",
   "metadata": {},
   "source": [
    "We can clearly observe that both dataset has multiple non-english applications that were removed."
   ]
  },
  {
   "cell_type": "markdown",
   "id": "dbfba708-03d2-4820-9060-6bbf9098d9e7",
   "metadata": {},
   "source": [
    "### Removing apps that are not free\n",
    "\n",
    "As we mentioned in our scope, we are only going to analyze the applications that are free to download and install. So in this section of our data cleaning process, we are going to exclude applications that are not free."
   ]
  },
  {
   "cell_type": "markdown",
   "id": "fd9aad79-842b-4dc2-968d-7c5cc5eac5c1",
   "metadata": {},
   "source": [
    "We have an available information in apple store dataset that the fifth column which is indexed number 4 is the price. Using this information, we are going to filter all the applications that were priced with *0* and append it on our free app list."
   ]
  },
  {
   "cell_type": "code",
   "execution_count": 16,
   "id": "685ff84c-a53a-4a2b-ba37-b0b70423b16f",
   "metadata": {
    "tags": []
   },
   "outputs": [
    {
     "name": "stdout",
     "output_type": "stream",
     "text": [
      "Number of free english applications: 3222\n"
     ]
    }
   ],
   "source": [
    "apls_free_english_app = list()\n",
    "\n",
    "for row in apls_dataset_english:\n",
    "    price = float(row[4])\n",
    "    if price == 0:\n",
    "        apls_free_english_app.append(row)\n",
    "        \n",
    "print('Number of free english applications:', len(apls_free_english_app))"
   ]
  },
  {
   "cell_type": "markdown",
   "id": "c6ad8ff9-b4fc-47b8-9a89-03e3576ee4e5",
   "metadata": {
    "tags": []
   },
   "source": [
    "Now we are going to filter all the free apps on the google playstore dataset. Upon further inspecting the values of the price in the dataset which is indexed 7 has a \"$\" sign. Which indicates that we cannot convert it to a float or an int. Knowing this, we are going to use the string '0' on our conditional statement instead to filter out all the free applications."
   ]
  },
  {
   "cell_type": "code",
   "execution_count": 17,
   "id": "027fc88b-c785-4739-8d15-b25fc79f5e7a",
   "metadata": {
    "tags": []
   },
   "outputs": [
    {
     "name": "stdout",
     "output_type": "stream",
     "text": [
      "Number of free english applications: 8864\n"
     ]
    }
   ],
   "source": [
    "gpls_free_english_app = list()\n",
    "\n",
    "for row in android_clean_english:\n",
    "    price = row[7]\n",
    "    ty = row[6]\n",
    "    if price == '0':\n",
    "        gpls_free_english_app.append(row)\n",
    "        \n",
    "print('Number of free english applications:', len(gpls_free_english_app))"
   ]
  },
  {
   "cell_type": "markdown",
   "id": "d5872097-f5af-478c-b858-64463c0fdc29",
   "metadata": {},
   "source": [
    "Now that we've cleaned the data by doing the following:\n",
    "- Detect inaccurate data, and correct or remove it.\n",
    "- Detect duplicate data, and remove the duplicates.\n",
    "- Remove non-English apps like 爱奇艺PPS -《欢乐颂2》电视剧热播.\n",
    "- Remove apps that aren't free.\n",
    "\n",
    "<br>We can say that our data is now appropriate for an analysis. We will do that on the next section."
   ]
  },
  {
   "cell_type": "markdown",
   "id": "0aba15b4-e94b-4491-ac4a-6e931e70f868",
   "metadata": {},
   "source": [
    "---"
   ]
  },
  {
   "cell_type": "markdown",
   "id": "1c7143d0-adc1-44be-a242-eac0bd54c7d0",
   "metadata": {},
   "source": [
    "## Data Analysis"
   ]
  },
  {
   "cell_type": "markdown",
   "id": "aa0111e3-3497-47dd-9a6c-f639e0f45c55",
   "metadata": {},
   "source": [
    "As we mentioned in the introduction, our goal is to determine the kinds of apps that are likely to attract more users because the number of people using our apps since in-app ads will drive our revenue.\n",
    "\n",
    "To minimize risks and overhead, our validation strategy for an app idea has three steps:\n",
    "\n",
    "1. Build a minimal Android version of the app, and add it to Google Play.\n",
    "2. If the app has a good response from users, we develop it further.\n",
    "3. If the app is profitable after six months, we build an iOS version of the app and add it to the App Store.\n",
    "\n",
    "Because our end goal is to add the app on both Google Play and the App Store, we need to find app profiles that are successful in both markets. \n",
    "<br><br>First, we want to look for the genre of both dataset and the category of google playstore dataset to determine what are the most common applications on the platforms. So we start our analysis by determining the most common genre for each market by defining functions to help us with the frequency table."
   ]
  },
  {
   "cell_type": "code",
   "execution_count": 18,
   "id": "51216a4c-ecbe-489f-b9b7-5abd89504601",
   "metadata": {
    "tags": []
   },
   "outputs": [],
   "source": [
    "def freq_table(dataset, index, percentage = False):\n",
    "    '''\n",
    "    Takes in a dataset and index and return a frequency table\n",
    "    \n",
    "    Args\n",
    "    ---\n",
    "    Dataset = the dataset\n",
    "    Index (int) = index for basis of frequency table\n",
    "    Percentage (bool) = if the return value is in unit or percentage\n",
    "    '''\n",
    "    \n",
    "    freq_dict = dict()\n",
    "    total = 0\n",
    "    for row in dataset:\n",
    "        column = row[index]\n",
    "        total += 1\n",
    "        if column not in freq_dict:\n",
    "            freq_dict[column] = freq_dict.get(column,1)\n",
    "        elif column in freq_dict:\n",
    "            freq_dict[column] += 1\n",
    "    if percentage:\n",
    "        for element in freq_dict:\n",
    "            freq_dict[element] = round(((freq_dict[element] / total) * 100),2)\n",
    "        return freq_dict\n",
    "    else:\n",
    "        return freq_dict\n",
    "\n",
    "def display_table(dataset, index, top = 5, percentage = False):\n",
    "    '''\n",
    "    Displays the table using the frequency table sorted in descending order\n",
    "    \n",
    "    Args\n",
    "    ---\n",
    "    Dataset = the dataset\n",
    "    Index (int) = index for basis of frequency table\n",
    "    Top (int) = how many rows to display (default 3)\n",
    "    Percentage (bool) = if the return value is in unit or percentage\n",
    "    '''\n",
    "    \n",
    "    table = freq_table(dataset, index, percentage)\n",
    "    empt_list = list()\n",
    "    \n",
    "    for key in table:\n",
    "        val_key = [table[key], key]\n",
    "        empt_list.append(val_key)\n",
    "        \n",
    "    table_sorted = sorted(empt_list, reverse = True)\n",
    "    basis = 0\n",
    "    \n",
    "    while basis != top:\n",
    "        print(table_sorted[basis][1],':',table_sorted[basis][0])\n",
    "        basis += 1"
   ]
  },
  {
   "cell_type": "code",
   "execution_count": 19,
   "id": "f776a5be-8932-4a3c-918c-2323cc8dff34",
   "metadata": {
    "tags": []
   },
   "outputs": [
    {
     "name": "stdout",
     "output_type": "stream",
     "text": [
      "Games : 58.16\n",
      "Entertainment : 7.88\n",
      "Photo & Video : 4.97\n",
      "Education : 3.66\n",
      "Social Networking : 3.29\n",
      "Shopping : 2.61\n",
      "Utilities : 2.51\n",
      "Sports : 2.14\n",
      "Music : 2.05\n",
      "Health & Fitness : 2.02\n"
     ]
    }
   ],
   "source": [
    "display_table(apls_free_english_app, -5, 10, True)"
   ]
  },
  {
   "cell_type": "markdown",
   "id": "56b8edf3-03ba-4710-b0a1-fe8a5fc54fd2",
   "metadata": {},
   "source": [
    "As we can observe from the apple store dataset, most of the applications are focused on entertainment being **Games, Entertainment and Photo & Videos** are the most common applications. For this trend, this might imply that large users are more likely to download applications that are on this genre, we will further investigate on this conclusion later."
   ]
  },
  {
   "cell_type": "code",
   "execution_count": 20,
   "id": "4580dbfb-2fa1-4aaf-b8f2-a2146122ccb9",
   "metadata": {
    "tags": []
   },
   "outputs": [
    {
     "name": "stdout",
     "output_type": "stream",
     "text": [
      "Tools : 8.45\n",
      "Entertainment : 6.07\n",
      "Education : 5.35\n",
      "Business : 4.59\n",
      "Productivity : 3.89\n",
      "Lifestyle : 3.89\n",
      "Finance : 3.7\n",
      "Medical : 3.53\n",
      "Sports : 3.46\n",
      "Personalization : 3.32\n"
     ]
    }
   ],
   "source": [
    "display_table(gpls_free_english_app, -4, 10, True)"
   ]
  },
  {
   "cell_type": "markdown",
   "id": "bcc2e0cb-20e1-4876-9ab8-6b5f152998d2",
   "metadata": {},
   "source": [
    "We can indetify that with the genre in the google playstore dataset, there isn't much of a trend. As the data are clustered around different genres. But we see a common trend with the apple store dataset that **Entertainment** is one of the most common genre."
   ]
  },
  {
   "cell_type": "code",
   "execution_count": 21,
   "id": "2d1c49ef-5c6e-4d98-bab0-f74e175aab5d",
   "metadata": {
    "tags": []
   },
   "outputs": [
    {
     "name": "stdout",
     "output_type": "stream",
     "text": [
      "FAMILY : 18.91\n",
      "GAME : 9.72\n",
      "TOOLS : 8.46\n",
      "BUSINESS : 4.59\n",
      "LIFESTYLE : 3.9\n",
      "PRODUCTIVITY : 3.89\n",
      "FINANCE : 3.7\n",
      "MEDICAL : 3.53\n",
      "SPORTS : 3.4\n",
      "PERSONALIZATION : 3.32\n"
     ]
    }
   ],
   "source": [
    "display_table(gpls_free_english_app, 1, 10, True)"
   ]
  },
  {
   "cell_type": "markdown",
   "id": "f2485407-ad05-42f5-9b6f-00f645716a5c",
   "metadata": {},
   "source": [
    "While determing the most common applications are easier on the category of the google playstore dataset. As we can see, **Family, Game and Tools** are in the top. Having family in the top 1 with a value of almost as double as the top 2 which is game. We can also see that **Game** is common between two markets."
   ]
  },
  {
   "cell_type": "markdown",
   "id": "4dbe2939-2199-420f-997e-cd572db78dc2",
   "metadata": {
    "tags": []
   },
   "source": [
    "<br>One way to find out what genres are the most popular (have the most users) is to calculate the average number of installs for each app genre. For the Google Play data set, we can find this information in the `Installs` column, but this information is missing for the App Store data set. As a workaround, we'll take the total number of user ratings as a proxy, which we can find in the `rating_count_tot app`."
   ]
  },
  {
   "cell_type": "code",
   "execution_count": 22,
   "id": "e1773178-70d4-42a0-b6f4-3d9dca27f018",
   "metadata": {
    "tags": []
   },
   "outputs": [
    {
     "name": "stdout",
     "output_type": "stream",
     "text": [
      "Navigation : 86090.33\n",
      "Reference : 74942.11\n",
      "Social Networking : 71548.35\n",
      "Music : 57326.53\n",
      "Weather : 52279.89\n",
      "Book : 39758.5\n",
      "Food & Drink : 33333.92\n",
      "Finance : 31467.94\n",
      "Photo & Video : 28441.54\n",
      "Travel : 28243.8\n",
      "Shopping : 26919.69\n",
      "Health & Fitness : 23298.02\n",
      "Sports : 23008.9\n",
      "Games : 22788.67\n",
      "News : 21248.02\n",
      "Productivity : 21028.41\n",
      "Utilities : 18684.46\n",
      "Lifestyle : 16485.76\n",
      "Entertainment : 14029.83\n",
      "Business : 7491.12\n",
      "Education : 7003.98\n",
      "Catalogs : 4004.0\n",
      "Medical : 612.0\n"
     ]
    }
   ],
   "source": [
    "apls_genre = list(freq_table(apls_free_english_app, -5))\n",
    "apls_most_download = list()\n",
    "\n",
    "for key in apls_genre:\n",
    "    genre_key = key\n",
    "    len_genre = 0\n",
    "    rating_total = 0\n",
    "    \n",
    "    for row in apls_free_english_app:\n",
    "        genre = row[-5]\n",
    "        count_rating_tot = float(row[5])\n",
    "        \n",
    "        if genre_key == genre:\n",
    "            rating_total += count_rating_tot\n",
    "            len_genre += 1\n",
    "        \n",
    "    avg_ratings = round((rating_total / len_genre), 2)\n",
    "    rating_genre = avg_ratings, genre_key\n",
    "    apls_most_download.append(rating_genre)\n",
    "\n",
    "sorted_list = sorted(apls_most_download, reverse = True)\n",
    "\n",
    "for genre in sorted_list:\n",
    "    print(genre[1], ':', genre[0])"
   ]
  },
  {
   "cell_type": "markdown",
   "id": "66367919-c6f4-4277-abc7-50f1345a89ef",
   "metadata": {},
   "source": [
    "We can see that **Navigation** applications are the most rated in this market. As we tried hypothesizing earlier that **Games** genre might have more users, we can observe that **Games** are in the middle having almost about 4 times less than the leading application in terms of the ratings. We can say that there are more active users on the **Navigation** genre.\n",
    "<br>We will move along to our google playstore dataset. For this one, since we have the install attribute it is easier to see how many users per genre. We will try to inspect the first three rows of our dataset to see how we are going to analyze it."
   ]
  },
  {
   "cell_type": "code",
   "execution_count": 23,
   "id": "edb16ccd-db7b-4c25-beb9-cefdc3bfa9d6",
   "metadata": {
    "tags": []
   },
   "outputs": [
    {
     "name": "stdout",
     "output_type": "stream",
     "text": [
      "['Photo Editor & Candy Camera & Grid & ScrapBook', 'ART_AND_DESIGN', '4.1', '159', '19M', '10,000+', 'Free', '0', 'Everyone', 'Art & Design', 'January 7, 2018', '1.0.0', '4.0.3 and up']\n",
      "['U Launcher Lite – FREE Live Cool Themes, Hide Apps', 'ART_AND_DESIGN', '4.7', '87510', '8.7M', '5,000,000+', 'Free', '0', 'Everyone', 'Art & Design', 'August 1, 2018', '1.2.4', '4.0.3 and up']\n",
      "['Sketch - Draw & Paint', 'ART_AND_DESIGN', '4.5', '215644', '25M', '50,000,000+', 'Free', '0', 'Teen', 'Art & Design', 'June 8, 2018', 'Varies with device', '4.2 and up']\n",
      "['Pixel Draw - Number Art Coloring Book', 'ART_AND_DESIGN', '4.3', '967', '2.8M', '100,000+', 'Free', '0', 'Everyone', 'Art & Design;Creativity', 'June 20, 2018', '1.1', '4.4 and up']\n",
      "['Paper flowers instructions', 'ART_AND_DESIGN', '4.4', '167', '5.6M', '50,000+', 'Free', '0', 'Everyone', 'Art & Design', 'March 26, 2017', '1.0', '2.3 and up']\n"
     ]
    }
   ],
   "source": [
    "explore_data(gpls_free_english_app, 0, 5)"
   ]
  },
  {
   "cell_type": "markdown",
   "id": "2a5bdb7b-362b-4c2e-be6b-e0f4b80a9757",
   "metadata": {},
   "source": [
    "<br>Upon further inspection we can see that `Install` values don't seem precise enough — we can see that most values are open-ended (10,000+, 100,000+, 5,000,000+ etc.). With this information, we don't know whether an app with 100,000+ installs has 100,000 installs, 200,000, or 350,000. However, we don't need very precise data for our purposes — we only want to find out which app genres attract the most users. \n",
    "<br><br>We're going to leave the numbers as they are, which means that we'll consider that an app with 100,000+ installs has 100,000 installs, and an app with 1,000,000+ installs has 1,000,000 installs, and so on. To perform computations, however, we'll need to convert each install number from a string to a float. This means we need to remove the commas and the plus characters, or the conversion will fail and cause an error."
   ]
  },
  {
   "cell_type": "code",
   "execution_count": 26,
   "id": "ea9b6e71-0ce5-4536-b453-44fec1f5453b",
   "metadata": {
    "tags": []
   },
   "outputs": [
    {
     "name": "stdout",
     "output_type": "stream",
     "text": [
      "COMMUNICATION : 38456119.17\n",
      "VIDEO_PLAYERS : 24727872.45\n",
      "SOCIAL : 23253652.13\n",
      "PHOTOGRAPHY : 17840110.4\n",
      "PRODUCTIVITY : 16787331.34\n",
      "GAME : 15588015.6\n",
      "TRAVEL_AND_LOCAL : 13984077.71\n",
      "ENTERTAINMENT : 11640705.88\n",
      "TOOLS : 10801391.3\n",
      "NEWS_AND_MAGAZINES : 9549178.47\n",
      "BOOKS_AND_REFERENCE : 8767811.89\n",
      "SHOPPING : 7036877.31\n",
      "PERSONALIZATION : 5201482.61\n",
      "WEATHER : 5074486.2\n",
      "HEALTH_AND_FITNESS : 4188821.99\n",
      "MAPS_AND_NAVIGATION : 4056941.77\n",
      "FAMILY : 3695641.82\n",
      "SPORTS : 3638640.14\n",
      "ART_AND_DESIGN : 1986335.09\n",
      "FOOD_AND_DRINK : 1924897.74\n",
      "EDUCATION : 1833495.15\n",
      "BUSINESS : 1712290.15\n",
      "LIFESTYLE : 1437816.27\n",
      "FINANCE : 1387692.48\n",
      "HOUSE_AND_HOME : 1331540.56\n",
      "DATING : 854028.83\n",
      "COMICS : 817657.27\n",
      "AUTO_AND_VEHICLES : 647317.82\n",
      "LIBRARIES_AND_DEMO : 638503.73\n",
      "PARENTING : 542603.62\n",
      "BEAUTY : 513151.89\n",
      "EVENTS : 253542.22\n",
      "MEDICAL : 120550.62\n"
     ]
    }
   ],
   "source": [
    "gpls_category = freq_table(gpls_free_english_app, 1)\n",
    "gpls_category_most_download = list()\n",
    "\n",
    "for category in gpls_category:\n",
    "    len_category = 0\n",
    "    total_category = 0\n",
    "    \n",
    "    for row in gpls_free_english_app:\n",
    "        installs = float((row[5].replace('+', '')).replace(',',''))\n",
    "        \n",
    "        if category == row[1]:\n",
    "            total_category += installs\n",
    "            len_category += 1\n",
    "    avg_category = round((total_category / len_category),2)\n",
    "    tot_category = avg_category, category\n",
    "    gpls_category_most_download.append(tot_category)\n",
    "\n",
    "sorted_list = sorted(gpls_category_most_download, reverse = True)\n",
    "\n",
    "for category in sorted_list:\n",
    "    print(category[1], ':', category[0])     "
   ]
  },
  {
   "cell_type": "markdown",
   "id": "81f545d9-e8bd-41dc-bce9-f0b7652aaea6",
   "metadata": {
    "tags": []
   },
   "source": [
    "On average, communication apps have the most installs: 38,456,119. This number is heavily skewed up by a few apps that have over one billion installs (WhatsApp, Facebook Messenger, Skype, Google Chrome, Gmail, and Hangouts), and a few others with over 100 and 500 million installs:"
   ]
  },
  {
   "cell_type": "code",
   "execution_count": 27,
   "id": "450f5212-64a5-48a4-9fb2-ba4373356071",
   "metadata": {
    "tags": []
   },
   "outputs": [
    {
     "name": "stdout",
     "output_type": "stream",
     "text": [
      "WhatsApp Messenger : 1,000,000,000+\n",
      "imo beta free calls and text : 100,000,000+\n",
      "Android Messages : 100,000,000+\n",
      "Google Duo - High Quality Video Calls : 500,000,000+\n",
      "Messenger – Text and Video Chat for Free : 1,000,000,000+\n",
      "imo free video calls and chat : 500,000,000+\n",
      "Skype - free IM & video calls : 1,000,000,000+\n",
      "Who : 100,000,000+\n",
      "GO SMS Pro - Messenger, Free Themes, Emoji : 100,000,000+\n",
      "LINE: Free Calls & Messages : 500,000,000+\n",
      "Google Chrome: Fast & Secure : 1,000,000,000+\n",
      "Firefox Browser fast & private : 100,000,000+\n",
      "UC Browser - Fast Download Private & Secure : 500,000,000+\n",
      "Gmail : 1,000,000,000+\n",
      "Hangouts : 1,000,000,000+\n",
      "Messenger Lite: Free Calls & Messages : 100,000,000+\n",
      "Kik : 100,000,000+\n",
      "KakaoTalk: Free Calls & Text : 100,000,000+\n",
      "Opera Mini - fast web browser : 100,000,000+\n",
      "Opera Browser: Fast and Secure : 100,000,000+\n",
      "Telegram : 100,000,000+\n",
      "Truecaller: Caller ID, SMS spam blocking & Dialer : 100,000,000+\n",
      "UC Browser Mini -Tiny Fast Private & Secure : 100,000,000+\n",
      "Viber Messenger : 500,000,000+\n",
      "WeChat : 100,000,000+\n",
      "Yahoo Mail – Stay Organized : 100,000,000+\n",
      "BBM - Free Calls & Messages : 100,000,000+\n"
     ]
    }
   ],
   "source": [
    "for app in gpls_free_english_app:\n",
    "    if app[1] == 'COMMUNICATION' and (app[5] == '1,000,000,000+'\n",
    "                                      or app[5] == '500,000,000+'\n",
    "                                      or app[5] == '100,000,000+'):\n",
    "        print(app[0], ':', app[5])"
   ]
  },
  {
   "cell_type": "markdown",
   "id": "dc003653-5544-49a8-bb11-aae0c7317a33",
   "metadata": {},
   "source": [
    "---"
   ]
  },
  {
   "cell_type": "markdown",
   "id": "3a60f9b8-9370-433b-9321-a61531f178c7",
   "metadata": {
    "tags": []
   },
   "source": [
    "## Conclusion and Recommendations"
   ]
  },
  {
   "cell_type": "markdown",
   "id": "8e8a1b43-c0fb-4f89-bd44-849a8d440875",
   "metadata": {},
   "source": [
    "As we observed from our analysis, applications such as **Navigation** and **Social Media** are one of the most popular applications. But it will be very hard market to tap due to popular applications on this genre. We can instead focus on **Entertainment** applications as there is a sudden trend and there's a lot of new applications on this genre that became popular such as *Tik-tok*. Since we are going to focus on in-app ads for our revenue, we can combine some feature's from the other genres such as communication by having a chat option on our application. We can also take a feature from the navigation that will enable us to locate nearby users of the application. One thing comes to mind is an application that we can upload photos and other users will be able to rate the photo. Enabling location based, users can see where that photo was taken. By combining multiple genre, we might be able to attract users to use our application. And implementing in-app ads to this application, the users will have to watch an advertisement before they can upload the photos. We can also create a pro version that will cost the user but it will remove in-app ads."
   ]
  }
 ],
 "metadata": {
  "kernelspec": {
   "display_name": "Python 3 (ipykernel)",
   "language": "python",
   "name": "python3"
  },
  "language_info": {
   "codemirror_mode": {
    "name": "ipython",
    "version": 3
   },
   "file_extension": ".py",
   "mimetype": "text/x-python",
   "name": "python",
   "nbconvert_exporter": "python",
   "pygments_lexer": "ipython3",
   "version": "3.11.3"
  }
 },
 "nbformat": 4,
 "nbformat_minor": 5
}
