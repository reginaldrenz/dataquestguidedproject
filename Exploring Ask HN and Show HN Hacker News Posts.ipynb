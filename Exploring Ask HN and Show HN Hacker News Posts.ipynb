{
 "cells": [
  {
   "cell_type": "markdown",
   "id": "9fac2922-7d1e-4523-b38d-9eebd3e62552",
   "metadata": {},
   "source": [
    "# Exploring Ask HN and Show HN Hacker News Posts\n",
    "\n",
    "## Introduction\n",
    "Hacker News (sometimes abbreviated as HN) is a social news website focusing on computer science and entrepreneurship. It is run by the investment fund and startup incubator Y Combinator. In general, content that can be submitted is defined as \"anything that gratifies one's intellectual curiosity.\"[[1]](https://en.wikipedia.org/wiki/Hacker_News) Hacker News is extremely popular in technology and startup circles, and posts that make it to the top of the Hacker News listings can get hundreds of thousands of visitors as a result.\n",
    "## Project Description\n",
    "On this project, we're specifically interested in posts with titles that begin with either Ask HN or Show HN. \n",
    "\n",
    "Users submit `Ask HN` posts to ask the Hacker News community a specific question. Below are a few examples:\n",
    "\n",
    ">Ask HN: How to improve my personal website?\n",
    "<br>Ask HN: Am I the only one outraged by Twitter shutting down share counts?\n",
    "<br>Ask HN: Aby recent changes to CSS that broke mobile?\n",
    "\n",
    "Likewise, users submit `Show HN` posts to show the Hacker News community a project, product, or just something interesting. Below are a few examples:\n",
    "\n",
    ">Show HN: Wio Link  ESP8266 Based Web of Things Hardware Development Platform'\n",
    "<br>Show HN: Something pointless I made\n",
    "<br>Show HN: Shanhu.io, a programming playground powered by e8vm\n",
    "## Project Goal\n",
    "On our analysis, we will try to compare these two types of posts to determine the following:\n",
    "\n",
    "- Do Ask HN or Show HN receive more comments on average?\n",
    "- Do posts created at a certain time receive more comments on average?"
   ]
  },
  {
   "cell_type": "markdown",
   "id": "1cf829ef-0bb3-46c1-95c3-c3aed761bdec",
   "metadata": {
    "tags": []
   },
   "source": [
    "---"
   ]
  },
  {
   "cell_type": "markdown",
   "id": "71b7bfe1-9db8-48c7-bff1-554d0d7a009a",
   "metadata": {},
   "source": [
    "## Dataset"
   ]
  },
  {
   "cell_type": "markdown",
   "id": "0a7a9957-728e-4b75-879a-aaaae586f778",
   "metadata": {},
   "source": [
    "As we are working on a csv file from [Hacker News Posts](https://www.kaggle.com/datasets/hacker-news/hacker-news-posts), we are going to import csv in order to have an access with the reader() method. We are also going to import datetime with an alias of dt since we are going to work with date type of data. We should also note that the dataset was reduced from almost 300,000 rows to approximately 20,000 rows by removing all submissions that didn't receive any comments and then randomly sampling from the remaining submissions. This process was done by [Dataquest](https://www.dataquest.io/) for the purpose of this guided project."
   ]
  },
  {
   "cell_type": "code",
   "execution_count": 1,
   "id": "203979dd-42a8-45e0-b4d9-b5f58df62123",
   "metadata": {
    "tags": []
   },
   "outputs": [],
   "source": [
    "import csv\n",
    "import datetime as dt"
   ]
  },
  {
   "cell_type": "code",
   "execution_count": 2,
   "id": "ce6cc4c5-d817-467d-8a0c-68d7ae6a7096",
   "metadata": {
    "tags": []
   },
   "outputs": [],
   "source": [
    "with open('hacker_news.csv', encoding = 'utf-8') as dataset:\n",
    "    read_file = csv.reader(dataset)\n",
    "    hn = list(read_file)\n",
    "header = hn[0]\n",
    "hn = hn[1:]"
   ]
  },
  {
   "cell_type": "markdown",
   "id": "0d1551fd-3e89-46b1-91b8-9eee9dbafa29",
   "metadata": {},
   "source": [
    "To visualize our dataset, we are going to print the first five posts including the header."
   ]
  },
  {
   "cell_type": "code",
   "execution_count": 3,
   "id": "08dcc88b-7340-4b4e-a946-9e479d6dd298",
   "metadata": {
    "tags": []
   },
   "outputs": [
    {
     "name": "stdout",
     "output_type": "stream",
     "text": [
      "Header:\n",
      "['id', 'title', 'url', 'num_points', 'num_comments', 'author', 'created_at']\n",
      "\n",
      "First five rows:\n",
      "['12224879', 'Interactive Dynamic Video', 'http://www.interactivedynamicvideo.com/', '386', '52', 'ne0phyte', '8/4/2016 11:52'] \n",
      "\n",
      "['10975351', 'How to Use Open Source and Shut the Fuck Up at the Same Time', 'http://hueniverse.com/2016/01/26/how-to-use-open-source-and-shut-the-fuck-up-at-the-same-time/', '39', '10', 'josep2', '1/26/2016 19:30'] \n",
      "\n",
      "['11964716', \"Florida DJs May Face Felony for April Fools' Water Joke\", 'http://www.thewire.com/entertainment/2013/04/florida-djs-april-fools-water-joke/63798/', '2', '1', 'vezycash', '6/23/2016 22:20'] \n",
      "\n",
      "['11919867', 'Technology ventures: From Idea to Enterprise', 'https://www.amazon.com/Technology-Ventures-Enterprise-Thomas-Byers/dp/0073523429', '3', '1', 'hswarna', '6/17/2016 0:01'] \n",
      "\n",
      "['10301696', 'Note by Note: The Making of Steinway L1037 (2007)', 'http://www.nytimes.com/2007/11/07/movies/07stein.html?_r=0', '8', '2', 'walterbell', '9/30/2015 4:12'] \n",
      "\n"
     ]
    }
   ],
   "source": [
    "print('Header:',header, sep = '\\n')\n",
    "print('\\nFirst five rows:')\n",
    "for row in range(5):\n",
    "    print(hn[row],'\\n')"
   ]
  },
  {
   "cell_type": "markdown",
   "id": "ec7294aa-02c6-4a58-989f-083db887e3a9",
   "metadata": {},
   "source": [
    "As we can see, our dataset includes 7 columns which consists of the following:"
   ]
  },
  {
   "cell_type": "markdown",
   "id": "762caa6a-ba0b-4f17-8d15-85ad18df334e",
   "metadata": {},
   "source": [
    "|Index|Column Name|Description|\n",
    "|:---|:---|:---|\n",
    "|0|id|id from the post|\n",
    "|1|title|title of the post|\n",
    "|2|url|URL that the post link to|\n",
    "|3|num_points|number of points acquired, total upvote plus downvote|\n",
    "|4|num_comments|number of comments on the post|\n",
    "|5|author|username of the person who submitted|\n",
    "|6|created_at|date and time of post's submission|\n"
   ]
  },
  {
   "cell_type": "markdown",
   "id": "1f596270-fea7-40fe-94c1-6bd22b94f444",
   "metadata": {
    "tags": []
   },
   "source": [
    "---"
   ]
  },
  {
   "cell_type": "markdown",
   "id": "138912a4-b34f-4c77-aa5f-3d7f24df65b9",
   "metadata": {},
   "source": [
    "## Data Cleaning"
   ]
  },
  {
   "cell_type": "markdown",
   "id": "22776efb-73e6-4153-95b0-874ce2f9a7d5",
   "metadata": {},
   "source": [
    "Since we're only concerned with post titles beginning with Ask HN or Show HN, we'll create new lists of lists containing just the data for those titles.\n",
    "<br><br>To find the posts that begin with either Ask HN or Show HN, we'll use the string method startswith. Given a string object, say, string1, we can check if starts with, say, dq by inspecting the output of the object string1.startswith('dq'). If string1 starts with dq, it will return True; otherwise, it will return False. Note that startswith method is case sensitive, the example below shows how it works:\n",
    ">print('dataquest'.startswith('Data'))\n",
    "<br>print('dataquest'.startswith('data'))\n",
    "><br>False<br>True"
   ]
  },
  {
   "cell_type": "markdown",
   "id": "cc178daf-aedd-4c5a-b63d-cb349951f226",
   "metadata": {},
   "source": [
    "In the following code below, we are going to extract the `Ask HN` and `Show HN` posts."
   ]
  },
  {
   "cell_type": "code",
   "execution_count": 4,
   "id": "49e771f9-127a-4747-83b2-e13f5b8811f0",
   "metadata": {
    "tags": []
   },
   "outputs": [],
   "source": [
    "ask_posts = list()\n",
    "show_posts = list()\n",
    "other_posts = list()\n",
    "\n",
    "for row in hn:\n",
    "    title = row[1]\n",
    "    if title.lower().startswith('ask hn'):\n",
    "        ask_posts.append(row)\n",
    "    elif title.lower().startswith('show hn'):\n",
    "        show_posts.append(row)\n",
    "    else:\n",
    "        other_posts.append(row)"
   ]
  },
  {
   "cell_type": "markdown",
   "id": "72df31bb-9006-49cf-b38c-3da35e07bdc8",
   "metadata": {},
   "source": [
    "Since we want to answer the question *\"Do posts created at a certain time receive more comments on average?\"*, we know that we are going to work with datetime data. Our dataset has only one date column which is `create_at` where the data shows the date and time when the posts were created. Now that we are dealing with multiple datasets, we are going to define a function that is going to convert the string of date into a datetime object and apply that function on the datasets."
   ]
  },
  {
   "cell_type": "code",
   "execution_count": 5,
   "id": "50c1feb5-f34c-425e-a005-5de9bff99193",
   "metadata": {
    "tags": []
   },
   "outputs": [],
   "source": [
    "def convert_date(dataset,index):\n",
    "    for row in dataset:\n",
    "        created_at = row[index]\n",
    "        date_format = '%m/%d/%Y %H:%M'\n",
    "        row[index] = dt.datetime.strptime(created_at, date_format)"
   ]
  },
  {
   "cell_type": "code",
   "execution_count": 6,
   "id": "306572af-17dc-40dc-ac94-699f90340633",
   "metadata": {
    "tags": []
   },
   "outputs": [],
   "source": [
    "convert_date(ask_posts, 6)\n",
    "convert_date(show_posts, 6)"
   ]
  },
  {
   "cell_type": "code",
   "execution_count": 7,
   "id": "78119f3c-ee0e-4033-be9e-42d424bd2597",
   "metadata": {
    "tags": []
   },
   "outputs": [
    {
     "name": "stdout",
     "output_type": "stream",
     "text": [
      "Ask HN sample post:\n",
      "['12296411', 'Ask HN: How to improve my personal website?', '', '2', '6', 'ahmedbaracat', datetime.datetime(2016, 8, 16, 9, 55)]\n",
      "\n",
      "Show HN sample post:\n",
      "['10627194', 'Show HN: Wio Link  ESP8266 Based Web of Things Hardware Development Platform', 'https://iot.seeed.cc', '26', '22', 'kfihihc', datetime.datetime(2015, 11, 25, 14, 3)]\n"
     ]
    }
   ],
   "source": [
    "print('Ask HN sample post:')\n",
    "print(ask_posts[0])\n",
    "\n",
    "print('\\nShow HN sample post:')\n",
    "print(show_posts[0])"
   ]
  },
  {
   "cell_type": "markdown",
   "id": "c0dbcbac-479b-470b-a164-36d3bee5ea3e",
   "metadata": {},
   "source": [
    "As we can observe, the last column of our dataset was converted to a datetime object. Now that we have a clean dataset we can start doing our analysis."
   ]
  },
  {
   "cell_type": "markdown",
   "id": "c7544a91-0908-494a-a911-3a58c0730e4c",
   "metadata": {},
   "source": [
    "---"
   ]
  },
  {
   "cell_type": "markdown",
   "id": "c16489da-f0a0-4fe5-bf86-bad26679ec1a",
   "metadata": {},
   "source": [
    "## Data Analysis"
   ]
  },
  {
   "cell_type": "markdown",
   "id": "ad16eccb-a7e8-49ca-9d19-0c6f544ade25",
   "metadata": {},
   "source": [
    "We want to answer the question *\"Do Ask HN or Show HN receive more comments on average?\"*. For now, we are going to look at the number of posts using the dataset that we extracted earlier."
   ]
  },
  {
   "cell_type": "code",
   "execution_count": 8,
   "id": "0d298a09-b900-4136-891e-4785464d77aa",
   "metadata": {
    "tags": []
   },
   "outputs": [
    {
     "name": "stdout",
     "output_type": "stream",
     "text": [
      "Ask HN number of posts: 1,744\n",
      "Show HN number of posts: 1,162\n",
      "Number of other posts: 17,194\n"
     ]
    }
   ],
   "source": [
    "print('Ask HN number of posts:', '{:,}'.format(len(ask_posts)))\n",
    "print('Show HN number of posts:', '{:,}'.format(len(show_posts)))\n",
    "print('Number of other posts:', '{:,}'.format(len(other_posts)))"
   ]
  },
  {
   "cell_type": "markdown",
   "id": "a70edd1d-c464-490f-b24b-f26170d7547f",
   "metadata": {},
   "source": [
    "As we can see, `Ask HN` are more common than `Show HN` posts. This indicates that more users asks the Hacker News community for specific questions. Now we will try to see which posts gets more enagements. We can measure the engagement of the community by looking at the number of comments that each posts receive."
   ]
  },
  {
   "cell_type": "code",
   "execution_count": 9,
   "id": "fb92d56f-3211-4670-82a0-ca4a69089283",
   "metadata": {
    "tags": []
   },
   "outputs": [
    {
     "name": "stdout",
     "output_type": "stream",
     "text": [
      "Average comments of Ask HN posts: 14.04\n",
      "Average comments of Show HN posts: 6.87\n"
     ]
    }
   ],
   "source": [
    "total_ask_comments = 0\n",
    "\n",
    "for row in ask_posts:\n",
    "    num_comments = int(row[4])\n",
    "    total_ask_comments += num_comments\n",
    "    \n",
    "avg_ask_comments = round((total_ask_comments / len(ask_posts)),2)\n",
    "\n",
    "total_show_comments = 0\n",
    "\n",
    "for row in show_posts:\n",
    "    num_comments = int(row[4])\n",
    "    total_show_comments += num_comments\n",
    "    \n",
    "avg_show_comments = round((total_show_comments / len(ask_posts)),2)\n",
    "\n",
    "print('Average comments of Ask HN posts:', avg_ask_comments)\n",
    "print('Average comments of Show HN posts:', avg_show_comments)"
   ]
  },
  {
   "cell_type": "markdown",
   "id": "60d5980a-05f2-4e90-a97b-226be666b5a6",
   "metadata": {},
   "source": [
    "We can observe that aside from the community posting more `Ask HN` posts, these kind of posts also recieves more engagement."
   ]
  },
  {
   "cell_type": "markdown",
   "id": "e3bc4220-8b30-4894-a493-d86f6da5c2ef",
   "metadata": {},
   "source": [
    "<br>Now we are going to answer the question *\"Do posts created at a certain time receive more comments on average?\"*.\n",
    "\n",
    "To answer this question, we'll determine if ask posts created at a certain time are more likely to attract comments. We'll use the following steps to perform this analysis:\n",
    "1. Calculate the number of ask posts created in each hour of the day, along with the number of comments received.\n",
    "2. Calculate the average number of comments ask posts receive by hour created."
   ]
  },
  {
   "cell_type": "markdown",
   "id": "71a7246a-5027-4606-ad4b-91b202d7318a",
   "metadata": {},
   "source": [
    "To startwith, we are going to create an empty list with a variable name result list that will store the datetime that the posts is created at and the number of comments on that post."
   ]
  },
  {
   "cell_type": "code",
   "execution_count": 10,
   "id": "4476da92-85e8-4eda-a33c-3cbd26d9a7a5",
   "metadata": {
    "tags": []
   },
   "outputs": [
    {
     "name": "stdout",
     "output_type": "stream",
     "text": [
      "[[datetime.datetime(2016, 8, 16, 9, 55), 6], [datetime.datetime(2015, 11, 22, 13, 43), 29], [datetime.datetime(2016, 5, 2, 10, 14), 1]]\n"
     ]
    }
   ],
   "source": [
    "result_list = list()\n",
    "\n",
    "for row in ask_posts:\n",
    "    created_at = row[6]\n",
    "    num_comments = int(row[4])\n",
    "    result = [created_at, num_comments]\n",
    "    result_list.append(result)\n",
    "print(result_list[:3])"
   ]
  },
  {
   "cell_type": "markdown",
   "id": "6ad4f6eb-7c4a-4af9-9b51-29196839c834",
   "metadata": {},
   "source": [
    "Now that we have our list of datetime and the number of comments. We are going to create a frequency table by storing an empty dictionary on the variables called `counts_by_hour` which will store the number of posts and `comments_by_hour` which will store the number of comments on that specific time in hour."
   ]
  },
  {
   "cell_type": "code",
   "execution_count": 11,
   "id": "593d5749-56f0-4192-81c9-49bceb253147",
   "metadata": {
    "tags": []
   },
   "outputs": [],
   "source": [
    "counts_by_hour = dict()\n",
    "comments_by_hour = dict()\n",
    "\n",
    "for row in result_list:\n",
    "    time = row[0].strftime('%H')\n",
    "    num_comments = row[1]\n",
    "    if time in counts_by_hour:\n",
    "        counts_by_hour[time] += 1\n",
    "        comments_by_hour[time] += num_comments\n",
    "    elif time not in counts_by_hour:\n",
    "        counts_by_hour[time] = counts_by_hour.get(time, 1)\n",
    "        comments_by_hour[time] = comments_by_hour.get(time, num_comments)"
   ]
  },
  {
   "cell_type": "markdown",
   "id": "ccba7eab-2f7f-4593-baf1-24f376465716",
   "metadata": {},
   "source": [
    "We are going to print our two frequency table to have a vision on what it contains."
   ]
  },
  {
   "cell_type": "code",
   "execution_count": 12,
   "id": "23b6f6f0-c4cb-439a-b943-aca2e4cc6037",
   "metadata": {
    "tags": []
   },
   "outputs": [
    {
     "name": "stdout",
     "output_type": "stream",
     "text": [
      "{'09': 45, '13': 85, '10': 59, '14': 107, '16': 108, '23': 68, '12': 73, '17': 100, '15': 116, '21': 109, '20': 80, '02': 58, '18': 109, '03': 54, '05': 46, '19': 110, '01': 60, '22': 71, '08': 48, '04': 47, '00': 55, '06': 44, '07': 34, '11': 58}\n"
     ]
    }
   ],
   "source": [
    "print(counts_by_hour)"
   ]
  },
  {
   "cell_type": "code",
   "execution_count": 13,
   "id": "05ae7dbf-3076-4f72-bcdf-d710d74e2979",
   "metadata": {
    "tags": []
   },
   "outputs": [
    {
     "name": "stdout",
     "output_type": "stream",
     "text": [
      "{'09': 251, '13': 1253, '10': 793, '14': 1416, '16': 1814, '23': 543, '12': 687, '17': 1146, '15': 4477, '21': 1745, '20': 1722, '02': 1381, '18': 1439, '03': 421, '05': 464, '19': 1188, '01': 683, '22': 479, '08': 492, '04': 337, '00': 447, '06': 397, '07': 267, '11': 641}\n"
     ]
    }
   ],
   "source": [
    "print(comments_by_hour)"
   ]
  },
  {
   "cell_type": "markdown",
   "id": "a771589d-445d-4464-bcff-8a906d40add0",
   "metadata": {},
   "source": [
    "Now that the two frequency table is complete, we are going to use it to calculate the average number of comments on specific time in terms of hours."
   ]
  },
  {
   "cell_type": "code",
   "execution_count": 14,
   "id": "57f9964f-8583-4777-89ff-35bc3a7e991c",
   "metadata": {
    "tags": []
   },
   "outputs": [
    {
     "name": "stdout",
     "output_type": "stream",
     "text": [
      "Top five most number of comments on a specific time in terms of hours\n",
      "Time in hour : Comments per hour\n",
      "1. There are 38.59 number of comments during the time of 15:00.\n",
      "2. There are 23.81 number of comments during the time of 02:00.\n",
      "3. There are 21.52 number of comments during the time of 20:00.\n",
      "4. There are 16.8 number of comments during the time of 16:00.\n",
      "5. There are 16.01 number of comments during the time of 21:00.\n"
     ]
    }
   ],
   "source": [
    "avg_comments_per_hour = list()\n",
    "\n",
    "for hour, comments in comments_by_hour.items():\n",
    "    comments_per_hour = round((comments / counts_by_hour[hour]),2)\n",
    "    hour_comments = comments_per_hour, hour\n",
    "    avg_comments_per_hour.append(hour_comments)\n",
    "\n",
    "sorted_avg_comment = sorted(avg_comments_per_hour, reverse = True)\n",
    "print('Top five most number of comments on a specific time in terms of hours')\n",
    "print('Time in hour',':','Comments per hour')\n",
    "for hour in range(1,6):\n",
    "    time = sorted_avg_comment[hour - 1][1]\n",
    "    avg_comments = sorted_avg_comment[hour - 1][0]\n",
    "    print('{rank}. There are {num} number of comments during the time of {time}:00.'.format(rank = hour, num = avg_comments, time = time))"
   ]
  },
  {
   "cell_type": "markdown",
   "id": "446035f4-5619-4936-8429-90a18dabe9bf",
   "metadata": {},
   "source": [
    "We can see the specific time where there are more engagements from the list above."
   ]
  },
  {
   "cell_type": "markdown",
   "id": "d0899e61-e036-4b47-a27e-834c9bf3f19e",
   "metadata": {},
   "source": [
    "---"
   ]
  },
  {
   "cell_type": "markdown",
   "id": "9b699026-9a3e-42d6-b68f-4294fddce999",
   "metadata": {},
   "source": [
    "## Conclusion\n",
    "<br>In this project, we analyzed ask posts and show posts to determine which type of post and time receive the most comments on average. Based on our analysis, to maximize the amount of engagement a post receives, we'd recommend the post be categorized as ask post and created between 15:00 and 16:00.\n",
    "\n",
    "However, it should be noted that the data set we analyzed excluded posts without any comments. Given that, it's more accurate to say that of the posts that received comments, ask posts received more comments on average and ask posts created between 15:00 and 16:00 received the most comments on average."
   ]
  }
 ],
 "metadata": {
  "kernelspec": {
   "display_name": "Python 3 (ipykernel)",
   "language": "python",
   "name": "python3"
  },
  "language_info": {
   "codemirror_mode": {
    "name": "ipython",
    "version": 3
   },
   "file_extension": ".py",
   "mimetype": "text/x-python",
   "name": "python",
   "nbconvert_exporter": "python",
   "pygments_lexer": "ipython3",
   "version": "3.11.3"
  }
 },
 "nbformat": 4,
 "nbformat_minor": 5
}
